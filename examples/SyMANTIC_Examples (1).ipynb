{
  "nbformat": 4,
  "nbformat_minor": 0,
  "metadata": {
    "colab": {
      "provenance": [],
      "collapsed_sections": [
        "c3vglx4J8RAD",
        "xinsGt-HHYNF",
        "woLAZLRgHngk",
        "hy5EFzBCHnxf",
        "gUxd_QhNHn_w",
        "WT-9b0UOHoE9",
        "sO1bxIu_HoJu",
        "n62hPKbTHoQC",
        "LSrqRbCMHoUb",
        "AdeTi8SMHoYU",
        "zbE0d_WDd6a6",
        "vqEkSGu1H764",
        "7nzxeangH8F6",
        "Tr8zRDGGH8NI"
      ]
    },
    "kernelspec": {
      "name": "python3",
      "display_name": "Python 3"
    },
    "language_info": {
      "name": "python"
    }
  },
  "cells": [
    {
      "cell_type": "markdown",
      "source": [
        "# ***Installation***"
      ],
      "metadata": {
        "id": "c3vglx4J8RAD"
      }
    },
    {
      "cell_type": "code",
      "execution_count": 1,
      "metadata": {
        "colab": {
          "base_uri": "https://localhost:8080/",
          "height": 1000
        },
        "id": "JyeFa4MOdCTN",
        "outputId": "6b527033-b278-4f27-eaca-4cd13f97210c"
      },
      "outputs": [
        {
          "output_type": "stream",
          "name": "stdout",
          "text": [
            "Collecting symantic\n",
            "  Downloading symantic-1.1.0.5.tar.gz (32 kB)\n",
            "  Installing build dependencies ... \u001b[?25l\u001b[?25hdone\n",
            "  Getting requirements to build wheel ... \u001b[?25l\u001b[?25hdone\n",
            "  Preparing metadata (pyproject.toml) ... \u001b[?25l\u001b[?25hdone\n",
            "Requirement already satisfied: torch in /usr/local/lib/python3.10/dist-packages (from symantic) (2.4.1+cu121)\n",
            "Collecting pandas==2.0.0 (from symantic)\n",
            "  Downloading pandas-2.0.0-cp310-cp310-manylinux_2_17_x86_64.manylinux2014_x86_64.whl.metadata (18 kB)\n",
            "Collecting numpy==1.23.5 (from symantic)\n",
            "  Downloading numpy-1.23.5-cp310-cp310-manylinux_2_17_x86_64.manylinux2014_x86_64.whl.metadata (2.3 kB)\n",
            "Collecting scipy==1.10.1 (from symantic)\n",
            "  Downloading scipy-1.10.1-cp310-cp310-manylinux_2_17_x86_64.manylinux2014_x86_64.whl.metadata (58 kB)\n",
            "\u001b[2K     \u001b[90m━━━━━━━━━━━━━━━━━━━━━━━━━━━━━━━━━━━━━━━━\u001b[0m \u001b[32m58.9/58.9 kB\u001b[0m \u001b[31m1.9 MB/s\u001b[0m eta \u001b[36m0:00:00\u001b[0m\n",
            "\u001b[?25hCollecting scikit-learn==1.2.2 (from symantic)\n",
            "  Downloading scikit_learn-1.2.2-cp310-cp310-manylinux_2_17_x86_64.manylinux2014_x86_64.whl.metadata (11 kB)\n",
            "Requirement already satisfied: python-dateutil>=2.8.2 in /usr/local/lib/python3.10/dist-packages (from pandas==2.0.0->symantic) (2.8.2)\n",
            "Requirement already satisfied: pytz>=2020.1 in /usr/local/lib/python3.10/dist-packages (from pandas==2.0.0->symantic) (2024.2)\n",
            "Requirement already satisfied: tzdata>=2022.1 in /usr/local/lib/python3.10/dist-packages (from pandas==2.0.0->symantic) (2024.2)\n",
            "Requirement already satisfied: joblib>=1.1.1 in /usr/local/lib/python3.10/dist-packages (from scikit-learn==1.2.2->symantic) (1.4.2)\n",
            "Requirement already satisfied: threadpoolctl>=2.0.0 in /usr/local/lib/python3.10/dist-packages (from scikit-learn==1.2.2->symantic) (3.5.0)\n",
            "Requirement already satisfied: filelock in /usr/local/lib/python3.10/dist-packages (from torch->symantic) (3.16.1)\n",
            "Requirement already satisfied: typing-extensions>=4.8.0 in /usr/local/lib/python3.10/dist-packages (from torch->symantic) (4.12.2)\n",
            "Requirement already satisfied: sympy in /usr/local/lib/python3.10/dist-packages (from torch->symantic) (1.13.3)\n",
            "Requirement already satisfied: networkx in /usr/local/lib/python3.10/dist-packages (from torch->symantic) (3.3)\n",
            "Requirement already satisfied: jinja2 in /usr/local/lib/python3.10/dist-packages (from torch->symantic) (3.1.4)\n",
            "Requirement already satisfied: fsspec in /usr/local/lib/python3.10/dist-packages (from torch->symantic) (2024.6.1)\n",
            "Requirement already satisfied: six>=1.5 in /usr/local/lib/python3.10/dist-packages (from python-dateutil>=2.8.2->pandas==2.0.0->symantic) (1.16.0)\n",
            "Requirement already satisfied: MarkupSafe>=2.0 in /usr/local/lib/python3.10/dist-packages (from jinja2->torch->symantic) (2.1.5)\n",
            "Requirement already satisfied: mpmath<1.4,>=1.1.0 in /usr/local/lib/python3.10/dist-packages (from sympy->torch->symantic) (1.3.0)\n",
            "Downloading numpy-1.23.5-cp310-cp310-manylinux_2_17_x86_64.manylinux2014_x86_64.whl (17.1 MB)\n",
            "\u001b[2K   \u001b[90m━━━━━━━━━━━━━━━━━━━━━━━━━━━━━━━━━━━━━━━━\u001b[0m \u001b[32m17.1/17.1 MB\u001b[0m \u001b[31m49.5 MB/s\u001b[0m eta \u001b[36m0:00:00\u001b[0m\n",
            "\u001b[?25hDownloading pandas-2.0.0-cp310-cp310-manylinux_2_17_x86_64.manylinux2014_x86_64.whl (12.3 MB)\n",
            "\u001b[2K   \u001b[90m━━━━━━━━━━━━━━━━━━━━━━━━━━━━━━━━━━━━━━━━\u001b[0m \u001b[32m12.3/12.3 MB\u001b[0m \u001b[31m56.6 MB/s\u001b[0m eta \u001b[36m0:00:00\u001b[0m\n",
            "\u001b[?25hDownloading scikit_learn-1.2.2-cp310-cp310-manylinux_2_17_x86_64.manylinux2014_x86_64.whl (9.6 MB)\n",
            "\u001b[2K   \u001b[90m━━━━━━━━━━━━━━━━━━━━━━━━━━━━━━━━━━━━━━━━\u001b[0m \u001b[32m9.6/9.6 MB\u001b[0m \u001b[31m57.7 MB/s\u001b[0m eta \u001b[36m0:00:00\u001b[0m\n",
            "\u001b[?25hDownloading scipy-1.10.1-cp310-cp310-manylinux_2_17_x86_64.manylinux2014_x86_64.whl (34.4 MB)\n",
            "\u001b[2K   \u001b[90m━━━━━━━━━━━━━━━━━━━━━━━━━━━━━━━━━━━━━━━━\u001b[0m \u001b[32m34.4/34.4 MB\u001b[0m \u001b[31m11.2 MB/s\u001b[0m eta \u001b[36m0:00:00\u001b[0m\n",
            "\u001b[?25hBuilding wheels for collected packages: symantic\n",
            "  Building wheel for symantic (pyproject.toml) ... \u001b[?25l\u001b[?25hdone\n",
            "  Created wheel for symantic: filename=symantic-1.1.0.5-py3-none-any.whl size=35145 sha256=d5869a9fbf075209d2998153b99dd1f501ed903044408db835620c53ca364f5e\n",
            "  Stored in directory: /root/.cache/pip/wheels/2a/5a/2a/f96fdfb93945edb2e8053b09db7c0c01bfcb7b75c0fecbaad2\n",
            "Successfully built symantic\n",
            "Installing collected packages: numpy, scipy, pandas, scikit-learn, symantic\n",
            "  Attempting uninstall: numpy\n",
            "    Found existing installation: numpy 1.26.4\n",
            "    Uninstalling numpy-1.26.4:\n",
            "      Successfully uninstalled numpy-1.26.4\n",
            "  Attempting uninstall: scipy\n",
            "    Found existing installation: scipy 1.13.1\n",
            "    Uninstalling scipy-1.13.1:\n",
            "      Successfully uninstalled scipy-1.13.1\n",
            "  Attempting uninstall: pandas\n",
            "    Found existing installation: pandas 2.2.2\n",
            "    Uninstalling pandas-2.2.2:\n",
            "      Successfully uninstalled pandas-2.2.2\n",
            "  Attempting uninstall: scikit-learn\n",
            "    Found existing installation: scikit-learn 1.5.2\n",
            "    Uninstalling scikit-learn-1.5.2:\n",
            "      Successfully uninstalled scikit-learn-1.5.2\n",
            "\u001b[31mERROR: pip's dependency resolver does not currently take into account all the packages that are installed. This behaviour is the source of the following dependency conflicts.\n",
            "albucore 0.0.16 requires numpy>=1.24, but you have numpy 1.23.5 which is incompatible.\n",
            "albumentations 1.4.15 requires numpy>=1.24.4, but you have numpy 1.23.5 which is incompatible.\n",
            "bigframes 1.21.0 requires numpy>=1.24.0, but you have numpy 1.23.5 which is incompatible.\n",
            "chex 0.1.87 requires numpy>=1.24.1, but you have numpy 1.23.5 which is incompatible.\n",
            "google-colab 1.0.0 requires pandas==2.2.2, but you have pandas 2.0.0 which is incompatible.\n",
            "jax 0.4.33 requires numpy>=1.24, but you have numpy 1.23.5 which is incompatible.\n",
            "jaxlib 0.4.33 requires numpy>=1.24, but you have numpy 1.23.5 which is incompatible.\n",
            "mizani 0.11.4 requires pandas>=2.1.0, but you have pandas 2.0.0 which is incompatible.\n",
            "plotnine 0.13.6 requires pandas<3.0.0,>=2.1.0, but you have pandas 2.0.0 which is incompatible.\n",
            "xarray 2024.9.0 requires numpy>=1.24, but you have numpy 1.23.5 which is incompatible.\n",
            "xarray 2024.9.0 requires pandas>=2.1, but you have pandas 2.0.0 which is incompatible.\u001b[0m\u001b[31m\n",
            "\u001b[0mSuccessfully installed numpy-1.23.5 pandas-2.0.0 scikit-learn-1.2.2 scipy-1.10.1 symantic-1.1.0.5\n"
          ]
        },
        {
          "output_type": "display_data",
          "data": {
            "application/vnd.colab-display-data+json": {
              "pip_warning": {
                "packages": [
                  "numpy"
                ]
              },
              "id": "fa2f1ff8071c4853adfc896443f6b904"
            }
          },
          "metadata": {}
        },
        {
          "output_type": "stream",
          "name": "stdout",
          "text": [
            "Requirement already satisfied: sympy in /usr/local/lib/python3.10/dist-packages (1.13.3)\n",
            "Requirement already satisfied: mpmath<1.4,>=1.1.0 in /usr/local/lib/python3.10/dist-packages (from sympy) (1.3.0)\n",
            "^C\n"
          ]
        }
      ],
      "source": [
        "!pip install symantic\n",
        "!pip install sympy"
      ]
    },
    {
      "cell_type": "markdown",
      "source": [
        "# ***Synthetic Examples***"
      ],
      "metadata": {
        "id": "bE5j5qcs8Kdz"
      }
    },
    {
      "cell_type": "markdown",
      "source": [
        "## ***CaseStudy-1***"
      ],
      "metadata": {
        "id": "xinsGt-HHYNF"
      }
    },
    {
      "cell_type": "code",
      "source": [
        "from symantic import SymanticModel\n",
        "import numpy as np\n",
        "import pandas as pd\n",
        "'''\n",
        "\n",
        "#############################################################################################################################\n",
        "\n",
        "Synthetic case study-1\n",
        "\n",
        "#############################################################################################################################\n",
        "'''\n",
        "np.random.seed(1000)\n",
        "X = np.random.uniform(1,5,(5,4))\n",
        "cols = [f'x{i+1}' for i in range(X.shape[1])]\n",
        "y = 10*X[:,0]/(X[:,1]*(X[:,2]+X[:,3]))\n",
        "\n",
        "df = pd.DataFrame(X,columns=cols)\n",
        "df.insert(0,'Target',y)\n",
        "\n",
        "operators = ['/','+']\n",
        "model = SymanticModel(df,operators=operators,metrics=[0.001,1.0],disp=True)\n",
        "res,full_pareto = model.fit()\n",
        "model.plot_pareto_front()\n",
        "\n",
        "print('\\n \\n')\n",
        "equation = full_pareto['Equation'].tolist()[-1]\n",
        "# Pretty format for learned equation\n",
        "\n",
        "import importlib\n",
        "import sympy as sp\n",
        "from sympy import symbols, sympify, latex\n",
        "from IPython.display import display, Math\n",
        "x1,x2,x3,x4 = symbols('x1 x2 x3 x4')\n",
        "sp.init_printing(use_latex='mathjax')\n",
        "latex_equation = latex(sympify(equation))\n",
        "print('Equation in Latex Format: \\n')\n",
        "display(Math(latex_equation))\n",
        "print('\\n \\n')"
      ],
      "metadata": {
        "colab": {
          "base_uri": "https://localhost:8080/",
          "height": 1000
        },
        "id": "uMmnugxzdk1d",
        "outputId": "b2fd3e60-576d-49a9-8a54-63f2ed03b23a"
      },
      "execution_count": 9,
      "outputs": [
        {
          "output_type": "stream",
          "name": "stdout",
          "text": [
            "****************************** Initial Feature Expansion Completed with feature space size:  22 *********************************************** \n",
            "\n",
            "**************************************** Time taken to create the space is::: 0.0050542354583740234  Seconds ********************************************\n",
            "\n",
            "************************************ 2 Feature Expansion Completed with feature space size::: 715  *********************************************************** \n",
            "\n",
            "****************************************** Time taken to create the space is::: 1.6032555103302002  Seconds *************************************************** \n",
            "\n",
            "************************************************ Autodepth regression completed in:: 1.6529881954193115 seconds ************************************************ \n",
            "\n",
            "************************************************  Please take a look at the entire pareto set generated!!! *******************************************************\n"
          ]
        },
        {
          "output_type": "display_data",
          "data": {
            "text/plain": [
              "<Figure size 1000x800 with 1 Axes>"
            ],
            "image/png": "[encoded data removed]"
          },
          "metadata": {}
        },
        {
          "output_type": "stream",
          "name": "stdout",
          "text": [
            "\n",
            " \n",
            "\n",
            "Equation in Latex Format: \n",
            "\n"
          ]
        },
        {
          "output_type": "display_data",
          "data": {
            "text/plain": [
              "<IPython.core.display.Math object>"
            ],
            "text/latex": "$\\displaystyle \\frac{10.0 x_{1}}{x_{2} \\left(x_{3} + x_{4}\\right)}$"
          },
          "metadata": {}
        },
        {
          "output_type": "stream",
          "name": "stdout",
          "text": [
            "\n",
            " \n",
            "\n"
          ]
        }
      ]
    },
    {
      "cell_type": "markdown",
      "source": [
        "## ***CaseStudy-2***"
      ],
      "metadata": {
        "id": "woLAZLRgHngk"
      }
    },
    {
      "cell_type": "code",
      "source": [
        "from symantic import SymanticModel\n",
        "import numpy as np\n",
        "import pandas as pd\n",
        "'''\n",
        "\n",
        "#############################################################################################################################\n",
        "\n",
        "Synthetic case study-2\n",
        "\n",
        "#############################################################################################################################\n",
        "'''\n",
        "\n",
        "X = np.random.uniform(1,5,(5,2))\n",
        "cols = [f'x{i+1}' for i in range(X.shape[1])]\n",
        "y = 3*np.sqrt(X[:,0]) + 2.10*np.sin(X[:,1]) + 3\n",
        "\n",
        "df = pd.DataFrame(X,columns=cols)\n",
        "df.insert(0,'Target',y)\n",
        "\n",
        "operators = ['sin','pow(1/2)']\n",
        "res,full_pareto = SymanticModel(df,operators=operators).fit()\n",
        "\n",
        "print('\\n \\n')\n",
        "equation = full_pareto['Equation'].tolist()[-1]\n",
        "\n",
        "print(f'*********************************{equation}*************************************')"
      ],
      "metadata": {
        "colab": {
          "base_uri": "https://localhost:8080/"
        },
        "id": "5oWZt_agIOCh",
        "outputId": "abbdf77c-fb28-4133-b822-7f61c7c1a9cb"
      },
      "execution_count": 15,
      "outputs": [
        {
          "output_type": "stream",
          "name": "stdout",
          "text": [
            "************************************************  Please take a look at the entire pareto set generated!!! *******************************************************\n",
            "\n",
            " \n",
            "\n",
            "*********************************2.1000*(sin(x2)) + 3.0000*(x1)**1/2 + 3.0000*************************************\n"
          ]
        }
      ]
    },
    {
      "cell_type": "markdown",
      "source": [
        "## ***CaseStudy-3***"
      ],
      "metadata": {
        "id": "hy5EFzBCHnxf"
      }
    },
    {
      "cell_type": "code",
      "source": [
        "from symantic import SymanticModel\n",
        "import numpy as np\n",
        "import pandas as pd\n",
        "'''\n",
        "\n",
        "#############################################################################################################################\n",
        "\n",
        "Synthetic case study-3\n",
        "\n",
        "#############################################################################################################################\n",
        "'''\n",
        "\n",
        "X = np.random.uniform(1,5,(10,3))\n",
        "cols = [f'x{i+1}' for i in range(X.shape[1])]\n",
        "y = 3*np.exp(X[:,0])/(X[:,1] + np.exp(X[:,2]))\n",
        "\n",
        "df = pd.DataFrame(X,columns=cols)\n",
        "df.insert(0,'Target',y)\n",
        "\n",
        "operators = ['/','+','exp']\n",
        "\n",
        "res,full_pareto = SymanticModel(df,operators=operators).fit()\n",
        "print('\\n \\n')\n",
        "\n",
        "print(f'******************************************************** Final Equation:: {full_pareto.Equation.tolist()[-1]} ********************************************************')\n",
        "\n",
        "print('\\n \\n')"
      ],
      "metadata": {
        "colab": {
          "base_uri": "https://localhost:8080/"
        },
        "id": "f9nhF5BdKSaj",
        "outputId": "8b92fec4-e343-4e94-f5be-41de1c95beba"
      },
      "execution_count": 17,
      "outputs": [
        {
          "output_type": "stream",
          "name": "stdout",
          "text": [
            "************************************************  Please take a look at the entire pareto set generated!!! *******************************************************\n",
            "\n",
            " \n",
            "\n",
            "******************************************************** Final Equation:: 3.0000*((exp(x1))/(x2+(exp(x3)))) - 0.0000 ********************************************************\n",
            "\n",
            " \n",
            "\n"
          ]
        }
      ]
    },
    {
      "cell_type": "markdown",
      "source": [
        "## ***CaseStudy-4***"
      ],
      "metadata": {
        "id": "vdSNtASxHn6B"
      }
    },
    {
      "cell_type": "code",
      "source": [
        "from symantic import SymanticModel\n",
        "import numpy as np\n",
        "import pandas as pd\n",
        "'''\n",
        "\n",
        "#############################################################################################################################\n",
        "\n",
        "Synthetic case study-4\n",
        "\n",
        "#############################################################################################################################\n",
        "'''\n",
        "\n",
        "X = np.random.uniform(1,5,(5,3))\n",
        "cols = [f'x{i+1}' for i in range(X.shape[1])]\n",
        "y = X[:,0]**3 + X[:,1]**2 + X[:,2] + 3\n",
        "\n",
        "df = pd.DataFrame(X,columns=cols)\n",
        "df.insert(0,'Target',y)\n",
        "res,full_pareto = SymanticModel(df,operators=['pow(2)','pow(3)']).fit()\n",
        "print('\\n \\n')\n",
        "\n",
        "print(f'******************************************************** Final Equation:: {full_pareto.Equation.tolist()[-1]} ********************************************************')\n",
        "\n",
        "print('\\n \\n')"
      ],
      "metadata": {
        "colab": {
          "base_uri": "https://localhost:8080/"
        },
        "id": "TTaKEGL0LGwz",
        "outputId": "2188c0c9-047c-4a95-f4ee-1c50a4e2d93c"
      },
      "execution_count": 18,
      "outputs": [
        {
          "output_type": "stream",
          "name": "stdout",
          "text": [
            "************************************************  Please take a look at the entire pareto set generated!!! *******************************************************\n",
            "\n",
            " \n",
            "\n",
            "******************************************************** Final Equation:: 1.0000*(x2)**2 + 1.0000*x3 + 1.0000*(x1)**3 + 3.0000 ********************************************************\n",
            "\n",
            " \n",
            "\n"
          ]
        }
      ]
    },
    {
      "cell_type": "markdown",
      "source": [
        "## ***CaseStudy-5***"
      ],
      "metadata": {
        "id": "gUxd_QhNHn_w"
      }
    },
    {
      "cell_type": "code",
      "source": [
        "from symantic import SymanticModel\n",
        "import numpy as np\n",
        "import pandas as pd\n",
        "'''\n",
        "\n",
        "#############################################################################################################################\n",
        "\n",
        "Synthetic case study-5\n",
        "\n",
        "#############################################################################################################################\n",
        "'''\n",
        "\n",
        "X = np.random.uniform(1,5,(20,2))\n",
        "cols = [f'x{i+1}' for i in range(X.shape[1])]\n",
        "y = ((X[:,0]+np.exp(X[:,0]))/(X[:,0]**2-X[:,1]**2))\n",
        "\n",
        "df = pd.DataFrame(X,columns=cols)\n",
        "df.insert(0,'Target',y)\n",
        "\n",
        "res,full_pareto = SymanticModel(df,operators=['pow(2)','+','/','exp','-']).fit()\n",
        "print('\\n \\n')\n",
        "\n",
        "print(f'******************************************************** Final Equation:: {full_pareto.Equation.tolist()[-1]} ********************************************************')\n",
        "\n",
        "print('\\n \\n')"
      ],
      "metadata": {
        "colab": {
          "base_uri": "https://localhost:8080/"
        },
        "id": "oAZziyQoLo3f",
        "outputId": "afb783d8-a474-4bbd-ed9c-2ae0528fb343"
      },
      "execution_count": 19,
      "outputs": [
        {
          "output_type": "stream",
          "name": "stdout",
          "text": [
            "************************************************  Please take a look at the entire pareto set generated!!! *******************************************************\n",
            "\n",
            " \n",
            "\n",
            "******************************************************** Final Equation:: 1.0000*((x1+(exp(x1)))/((x1)**2-(x2)**2)) - 0.0000 ********************************************************\n",
            "\n",
            " \n",
            "\n"
          ]
        }
      ]
    },
    {
      "cell_type": "markdown",
      "source": [
        "## ***CaseStudy-6***"
      ],
      "metadata": {
        "id": "WT-9b0UOHoE9"
      }
    },
    {
      "cell_type": "code",
      "source": [
        "from symantic import SymanticModel\n",
        "import numpy as np\n",
        "import pandas as pd\n",
        "'''\n",
        "\n",
        "#############################################################################################################################\n",
        "\n",
        "Synthetic case study-6\n",
        "\n",
        "#############################################################################################################################\n",
        "'''\n",
        "\n",
        "X = np.random.uniform(1,5,(5,2))\n",
        "cols = [f'x{i+1}' for i in range(X.shape[1])]\n",
        "y = np.sqrt(X[:,0]**2+X[:,1]**2)\n",
        "\n",
        "df = pd.DataFrame(X,columns=cols)\n",
        "df.insert(0,'Target',y)\n",
        "res,full_pareto = SymanticModel(df,operators=['pow(1/2)','pow(2)','+'],metrics=[0.05,1.0],sis_features=5).fit()\n",
        "\n",
        "print('\\n \\n')\n",
        "\n",
        "print(f'******************************************************** Final Equation:: {full_pareto.Equation.tolist()[-1]} ********************************************************')\n",
        "\n",
        "print('\\n \\n')\n"
      ],
      "metadata": {
        "colab": {
          "base_uri": "https://localhost:8080/"
        },
        "id": "LkrncZsNNhb_",
        "outputId": "58d7ea45-f5ff-455b-91d4-d2c40b02029a"
      },
      "execution_count": 20,
      "outputs": [
        {
          "output_type": "stream",
          "name": "stdout",
          "text": [
            "************************************************  Please take a look at the entire pareto set generated!!! *******************************************************\n",
            "\n",
            " \n",
            "\n",
            "******************************************************** Final Equation:: 1.0000*(((x1)**2+(x2)**2))**1/2 ********************************************************\n",
            "\n",
            " \n",
            "\n"
          ]
        }
      ]
    },
    {
      "cell_type": "markdown",
      "source": [
        "# ***Dimensional Analysis Case Studies***"
      ],
      "metadata": {
        "id": "zbE0d_WDd6a6"
      }
    },
    {
      "cell_type": "markdown",
      "source": [
        "***Please be advised that, the following case studies require daatafiles from this [https://drive.google.com/drive/folders/18C8W3zrsk4Y3j_UN4mk_te-vgy2NaoZX?usp=drive_link](https://)***"
      ],
      "metadata": {
        "id": "_Fsu4VYYgKCy"
      }
    },
    {
      "cell_type": "code",
      "source": [
        "from google.colab import drive\n",
        "drive.mount('/content/drive')\n",
        "%cd drive/MyDrive/SyMANTIC/"
      ],
      "metadata": {
        "colab": {
          "base_uri": "https://localhost:8080/"
        },
        "id": "Yj6qac4-dSED",
        "outputId": "1fd4f424-d930-4590-d9e8-7940791c6542"
      },
      "execution_count": 25,
      "outputs": [
        {
          "output_type": "stream",
          "name": "stdout",
          "text": [
            "Mounted at /content/drive\n",
            "/content/drive/MyDrive/SyMANTIC\n"
          ]
        }
      ]
    },
    {
      "cell_type": "code",
      "source": [
        "import pandas as pd\n",
        "import numpy as np\n",
        "from symantic import SymanticModel"
      ],
      "metadata": {
        "id": "MHmrBLTa6WL_"
      },
      "execution_count": 26,
      "outputs": []
    },
    {
      "cell_type": "markdown",
      "source": [
        "## ***Dimensional CaseStudy-1***"
      ],
      "metadata": {
        "id": "vqEkSGu1H764"
      }
    },
    {
      "cell_type": "code",
      "source": [
        "df =pd.read_csv('./distance/train.dat',sep='\\t')\n",
        "df.drop(df.columns[[0]],axis=1,inplace=True)\n",
        "from sympy import symbols\n",
        "res,full_pareto= SymanticModel(df,operators=['+','-','pow(1/2)','pow(2)'],dimensionality=['u1','u1','u1','u1'],output_dim=(symbols('u1')*symbols('u1'))).fit()\n",
        "equation = full_pareto.Equation.tolist()[-1]\n",
        "print(f'***********************************{equation}*********************************')"
      ],
      "metadata": {
        "colab": {
          "base_uri": "https://localhost:8080/"
        },
        "id": "RA8PfLNyehxv",
        "outputId": "e481997e-cb5a-4096-f805-4e829fe5049f"
      },
      "execution_count": 27,
      "outputs": [
        {
          "output_type": "stream",
          "name": "stdout",
          "text": [
            "\n",
            "!!Important:: Given Number of features in SIS screening is greater than the feature space created, changing the SIS features to shape of features created!!\n",
            "\n",
            "Intercept: -4.440892098500626e-16\n",
            "************************************************  Please take a look at the entire pareto set generated!!! *******************************************************\n"
          ]
        }
      ]
    },
    {
      "cell_type": "markdown",
      "source": [
        "## ***Dimensional CaseStudy-2***"
      ],
      "metadata": {
        "id": "7nzxeangH8F6"
      }
    },
    {
      "cell_type": "code",
      "source": [
        "df = pd.read_csv('./medium_12_11/train.dat',sep='\\t')\n",
        "df.drop(df.columns[[0]],axis=1,inplace=True)\n",
        "res,full_pareto = SymanticModel(df,operators=['+','*','sin'],dimensionality=['u1','u2','u3','u4','1']).fit()\n",
        "equation = full_pareto.Equation.tolist()[-1]\n",
        "print(f'***********************************{equation}*********************************')"
      ],
      "metadata": {
        "colab": {
          "base_uri": "https://localhost:8080/"
        },
        "id": "GeHHnFYVgyTD",
        "outputId": "b82e4fa4-f932-4802-882a-6e0003148494"
      },
      "execution_count": 30,
      "outputs": [
        {
          "output_type": "stream",
          "name": "stdout",
          "text": [
            "\n",
            "!!Important:: Given Number of features in SIS screening is greater than the feature space created, changing the SIS features to shape of features created!!\n",
            "\n",
            "\n",
            "Intercept: 3.885780586188048e-16\n",
            "************************************************  Please take a look at the entire pareto set generated!!! *******************************************************\n",
            "***********************************(x0*x1) + 1.0000*((x2*(sin(x4)))*(x0*x3)) + 0.0000*********************************\n"
          ]
        }
      ]
    },
    {
      "cell_type": "markdown",
      "source": [
        "## ***Dimensional CaseStudy-3***"
      ],
      "metadata": {
        "id": "Tr8zRDGGH8NI"
      }
    },
    {
      "cell_type": "code",
      "source": [
        "df = pd.read_csv('./10.7/train.dat',sep='\\t')\n",
        "df.drop(df.columns[[0]],axis=1,inplace=True)\n",
        "\n",
        "res, full_pareto = SymanticModel(df,operators=['/','*','pow(2)','-'],dimensionality=['u1','u2','u2'],output_dim=(symbols('u1')*symbols('u1')),metrics=[0.001,1.0]).fit()\n",
        "equation = full_pareto.Equation.tolist()[-1]\n",
        "print(f'***********************************{equation}*********************************')"
      ],
      "metadata": {
        "colab": {
          "base_uri": "https://localhost:8080/"
        },
        "id": "z5ZLOVAAg-TB",
        "outputId": "17d65351-2280-4902-8202-ea57475f60ec"
      },
      "execution_count": 31,
      "outputs": [
        {
          "output_type": "stream",
          "name": "stdout",
          "text": [
            "\n",
            "!!Important:: Given Number of features in SIS screening is greater than the feature space created, changing the SIS features to shape of features created!!\n",
            "\n",
            "\n",
            "Intercept: 1.4481301491287013e-08\n",
            "************************************************  Please take a look at the entire pareto set generated!!! *******************************************************\n",
            "***********************************-299815553.8081*((x0*(x0/x1))/((x1/c)-(c/x1))) + -0.0001*((x1/(c/x0))*(c/(x1/x0))) - 0.0000*********************************\n"
          ]
        }
      ]
    }
  ]
}